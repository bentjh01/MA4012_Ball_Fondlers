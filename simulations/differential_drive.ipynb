{
 "cells": [
  {
   "cell_type": "code",
   "execution_count": 8,
   "metadata": {},
   "outputs": [],
   "source": [
    "import math"
   ]
  },
  {
   "cell_type": "code",
   "execution_count": 34,
   "metadata": {},
   "outputs": [],
   "source": [
    "wheel_radius = 0.035\n",
    "robot_track = 0.2\n",
    "max_rpm = 100"
   ]
  },
  {
   "cell_type": "code",
   "execution_count": 35,
   "metadata": {},
   "outputs": [],
   "source": [
    "def differential_drive_pose_update(pose, linX, angX, dt):\n",
    "    pose[0] += linX * dt * math.cos(pose[2])\n",
    "    pose[1] += linX * dt * math.sin(pose[2])\n",
    "    pose[2] += angX * dt\n",
    "    pose[3] = linX\n",
    "    pose[4] = angX\n",
    "    return pose"
   ]
  },
  {
   "cell_type": "code",
   "execution_count": 40,
   "metadata": {},
   "outputs": [],
   "source": [
    "def differential_drive_velocity(rpmR, rpmL):\n",
    "    linX = (rpmR + rpmL) * math.pi * wheel_radius / 60\n",
    "    angX = (rpmR - rpmL) * math.pi * wheel_radius / robot_track / 60\n",
    "    return linX, angX"
   ]
  },
  {
   "cell_type": "code",
   "execution_count": 41,
   "metadata": {},
   "outputs": [],
   "source": [
    "def differential_drive_rpm(linX, angX):\n",
    "    rpmR = (linX + angX * robot_track / 2) * 60 / math.pi / wheel_radius\n",
    "    rpmL = (linX - angX * robot_track / 2) * 60 / math.pi / wheel_radius\n",
    "    return rpmR, rpmL"
   ]
  },
  {
   "cell_type": "code",
   "execution_count": 42,
   "metadata": {},
   "outputs": [],
   "source": [
    "def limit_rpm(rpmR, rpmL):\n",
    "    if abs(rpmR) > max_rpm or abs(rpmL) > max_rpm:\n",
    "        higher = max(abs(rpmR), abs(rpmL))\n",
    "        rpmR = max_rpm * rpmR / higher\n",
    "        rpmL = max_rpm * rpmL / higher\n",
    "    return rpmR, rpmL"
   ]
  },
  {
   "cell_type": "code",
   "execution_count": 43,
   "metadata": {},
   "outputs": [
    {
     "name": "stdout",
     "output_type": "stream",
     "text": [
      "(0.36651914291880927, 0.0) (0.0, 1.8325957145940461)\n"
     ]
    }
   ],
   "source": [
    "max_linX = differential_drive_velocity(max_rpm, max_rpm)\n",
    "max_angX = differential_drive_velocity(max_rpm, -max_rpm)\n",
    "print(max_linX, max_angX)"
   ]
  },
  {
   "cell_type": "code",
   "execution_count": null,
   "metadata": {},
   "outputs": [],
   "source": [
    "def find_max_linX(angZ):\n",
    "    return max_linX[0] - abs(angZ) * robot_track / 2"
   ]
  },
  {
   "cell_type": "code",
   "execution_count": null,
   "metadata": {},
   "outputs": [],
   "source": []
  }
 ],
 "metadata": {
  "kernelspec": {
   "display_name": ".venv",
   "language": "python",
   "name": "python3"
  },
  "language_info": {
   "codemirror_mode": {
    "name": "ipython",
    "version": 3
   },
   "file_extension": ".py",
   "mimetype": "text/x-python",
   "name": "python",
   "nbconvert_exporter": "python",
   "pygments_lexer": "ipython3",
   "version": "3.9.6"
  }
 },
 "nbformat": 4,
 "nbformat_minor": 2
}
