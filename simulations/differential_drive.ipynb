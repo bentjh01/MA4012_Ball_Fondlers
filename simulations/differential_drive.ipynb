{
 "cells": [
  {
   "cell_type": "code",
   "execution_count": 8,
   "metadata": {},
   "outputs": [],
   "source": [
    "import math"
   ]
  },
  {
   "cell_type": "code",
   "execution_count": 34,
   "metadata": {},
   "outputs": [],
   "source": [
    "wheel_radius = 0.035\n",
    "robot_track = 0.2\n",
    "max_rpm = 100"
   ]
  },
  {
   "cell_type": "code",
   "execution_count": 35,
   "metadata": {},
   "outputs": [],
   "source": [
    "def differential_drive_pose_update(pose, linX, angX, dt):\n",
    "    pose[0] += linX * dt * math.cos(pose[2])\n",
    "    pose[1] += linX * dt * math.sin(pose[2])\n",
    "    pose[2] += angX * dt\n",
    "    pose[3] = linX\n",
    "    pose[4] = angX\n",
    "    return pose"
   ]
  },
  {
   "cell_type": "code",
   "execution_count": 40,
   "metadata": {},
   "outputs": [],
   "source": [
    "def differential_drive_velocity(rpmR, rpmL):\n",
    "    linX = (rpmR + rpmL) * math.pi * wheel_radius / 60\n",
    "    angX = (rpmR - rpmL) * math.pi * wheel_radius / robot_track / 60\n",
    "    return linX, angX"
   ]
  },
  {
   "cell_type": "code",
   "execution_count": 41,
   "metadata": {},
   "outputs": [],
   "source": [
    "def differential_drive_rpm(linX, angX):\n",
    "    rpmR = (linX + angX * robot_track / 2) * 60 / math.pi / wheel_radius\n",
    "    rpmL = (linX - angX * robot_track / 2) * 60 / math.pi / wheel_radius\n",
    "    return rpmR, rpmL"
   ]
  },
  {
   "cell_type": "code",
   "execution_count": 42,
   "metadata": {},
   "outputs": [],
   "source": [
    "def limit_rpm(rpmR, rpmL):\n",
    "    if abs(rpmR) > max_rpm or abs(rpmL) > max_rpm:\n",
    "        higher = max(abs(rpmR), abs(rpmL))\n",
    "        rpmR = max_rpm * rpmR / higher\n",
    "        rpmL = max_rpm * rpmL / higher\n",
    "    return rpmR, rpmL"
   ]
  },
  {
   "cell_type": "code",
   "execution_count": 43,
   "metadata": {},
   "outputs": [
    {
     "name": "stdout",
     "output_type": "stream",
     "text": [
      "(0.36651914291880927, 0.0) (0.0, 1.8325957145940461)\n"
     ]
    }
   ],
   "source": [
    "max_linX = differential_drive_velocity(max_rpm, max_rpm)\n",
    "max_angX = differential_drive_velocity(max_rpm, -max_rpm)\n",
    "print(max_linX, max_angX)"
   ]
  },
  {
   "cell_type": "code",
   "execution_count": null,
   "metadata": {},
   "outputs": [],
   "source": [
    "def find_max_linX(angZ):\n",
    "    return max_linX[0] - abs(angZ) * robot_track / 2"
   ]
  },
  {
   "cell_type": "code",
   "execution_count": 7,
   "metadata": {},
   "outputs": [
    {
     "name": "stdout",
     "output_type": "stream",
     "text": [
      "[-1.5208379310729538, -1.4711276743037345, -1.4219063791853994, -1.373400766945016, -1.3258176636680326, -1.2793395323170293, -1.2341215074081693, -1.1902899496825317, -1.147942400661956, -1.1071487177940906, -1.067953115867036, -1.0303768265243125, -0.9944211062037129, -0.960070362405688, -0.9272952180016122, -0.8960553845713439, -0.8663022625526788, -0.83798122500839, -0.8110335719191257, -0.7853981633974483, -0.7610127542247298, -0.7378150601204649, -0.7157435896688801, -0.6947382761967031]\n"
     ]
    },
    {
     "data": {
      "text/plain": [
       "[<matplotlib.lines.Line2D at 0x107da99d0>]"
      ]
     },
     "execution_count": 7,
     "metadata": {},
     "output_type": "execute_result"
    },
    {
     "data": {
      "image/png": "[encoded data removed]",
      "text/plain": [
       "<Figure size 640x480 with 1 Axes>"
      ]
     },
     "metadata": {},
     "output_type": "display_data"
    }
   ],
   "source": [
    "import math\n",
    "\n",
    "def foo(fc):\n",
    "    return math.atan(-1/(fc*0.05))\n",
    "\n",
    "x = [i for i in range(1, 25)]\n",
    "y = [foo(val) for val in x]\n",
    "print(y)\n",
    "\n",
    "import matplotlib.pyplot as plt\n",
    "plt.plot(x, y)"
   ]
  },
  {
   "cell_type": "code",
   "execution_count": 9,
   "metadata": {},
   "outputs": [
    {
     "name": "stdout",
     "output_type": "stream",
     "text": [
      "5: (6, -1.2793395323170293)\n",
      "20: (21, -0.7610127542247298)\n",
      "m = 0.03455511853948664\n",
      "c = 1.4866702435539492\n"
     ]
    }
   ],
   "source": [
    "print(f\"5: {x[5], y[5]}\")\n",
    "print(f\"20: {x[20], y[20]}\")\n",
    "m = (y[20]-y[5])/(x[20]-x[5])\n",
    "print(f\"m = {m}\")\n",
    "print(f\"c = {m*x[5]-y[5]}\")"
   ]
  },
  {
   "cell_type": "code",
   "execution_count": null,
   "metadata": {},
   "outputs": [],
   "source": []
  }
 ],
 "metadata": {
  "kernelspec": {
   "display_name": ".venv",
   "language": "python",
   "name": "python3"
  },
  "language_info": {
   "codemirror_mode": {
    "name": "ipython",
    "version": 3
   },
   "file_extension": ".py",
   "mimetype": "text/x-python",
   "name": "python",
   "nbconvert_exporter": "python",
   "pygments_lexer": "ipython3",
   "version": "3.9.6"
  }
 },
 "nbformat": 4,
 "nbformat_minor": 2
}
